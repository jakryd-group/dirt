{
 "cells": [
  {
   "cell_type": "code",
   "execution_count": 5,
   "metadata": {},
   "outputs": [],
   "source": [
    "\"\"\" Machine Learning on Data Without Preliminary Cleaning \"\"\"\n",
    "\n",
    "import torch\n",
    "import torch.nn as nn\n",
    "import torch.nn.functional as F\n",
    "import torch.utils.data as Data\n",
    "import mdshare\n",
    "import numpy as np\n",
    "from sklearn.model_selection import train_test_split\n",
    "import matplotlib.pyplot as plt\n",
    "\n",
    "%matplotlib inline\n",
    "\n",
    "def matplotlib_imshow(img):\n",
    "    \"\"\" using plt to plot img in tensorboard \"\"\"\n",
    "    img = img.mean(dim=0)\n",
    "    npimg = img.cpu().detach().numpy()\n",
    "    plt.imshow(npimg, cmap=\"Greys\")"
   ]
  },
  {
   "cell_type": "code",
   "execution_count": 18,
   "metadata": {},
   "outputs": [],
   "source": [
    "# Data load\n",
    "DATA = mdshare.fetch(\"alanine-dipeptide-3x250ns-heavy-atom-distances.npz\")\n",
    "with np.load(DATA) as f:\n",
    "    dataset = np.vstack([f[key] for key in sorted(f.keys())])\n",
    "    \n",
    "dataset -= dataset.min()\n",
    "dataset /= dataset.max()\n",
    "\n",
    "x_train, x_test = train_test_split(dataset, train_size=0.7)\n",
    "\n",
    "BATCH_SIZE = 1000\n",
    "BATCH_PART = 20\n",
    "EPOCHS = 15\n",
    "\n",
    "# Data loader for easy mini-batch return in training\n",
    "train_loader = Data.DataLoader(\n",
    "    dataset=x_train,\n",
    "    batch_size=BATCH_SIZE,\n",
    "    shuffle=True\n",
    ")\n",
    "\n",
    "test_loader = Data.DataLoader(\n",
    "    dataset=x_test,\n",
    "    batch_size=BATCH_SIZE,\n",
    "    shuffle=True\n",
    ")\n",
    "\n",
    "class AutoEncoder(nn.Module):\n",
    "    \"\"\" autoencoder class\n",
    "        for now only holds:\n",
    "            X variable\n",
    "            y variable\n",
    "    \"\"\"\n",
    "\n",
    "    # def __init__(self, x, y=None):\n",
    "    def __init__(self):\n",
    "        \"\"\"\n",
    "        initializing autoencoder class\n",
    "        \"\"\"\n",
    "        super(AutoEncoder, self).__init__()\n",
    "\n",
    "        # self.X = torch.from_numpy(x).type(torch.FloatTensor)\n",
    "        # self.y = y\n",
    "\n",
    "        self.input_layer = nn.Linear(45, 20)\n",
    "        self.encode_1 = nn.Linear(20, 10)\n",
    "        self.encode_2 = nn.Linear(10, 5)\n",
    "        self.encode_3 = nn.Linear(5, 2)\n",
    "\n",
    "        self.decode_1 = nn.Linear(2, 5)\n",
    "        self.decode_2 = nn.Linear(5, 10)\n",
    "        self.decode_3 = nn.Linear(10, 20)\n",
    "        self.output_layer = nn.Linear(20, 45)\n",
    "\n",
    "        self.input = None\n",
    "\n",
    "    def forward(self, x):\n",
    "        \"\"\"\n",
    "        initialize forward method\n",
    "        \"\"\"\n",
    "        x = self.encode(x)\n",
    "        x = self.decode(x)\n",
    "\n",
    "        return x\n",
    "\n",
    "    def print(self):\n",
    "        \"\"\" prints variables \"\"\"\n",
    "        print(\"X:\", self.X, \"\\ny:\", self.y)\n",
    "\n",
    "    def encode(self, x):\n",
    "        \"\"\"\n",
    "        encoding function\n",
    "        \"\"\"\n",
    "\n",
    "        x = F.tanh(self.input_layer(x))\n",
    "        x = F.tanh(self.encode_1(x))\n",
    "        x = F.tanh(self.encode_2(x))\n",
    "\n",
    "        return F.tanh(self.encode_3(x))\n",
    "\n",
    "    def decode(self, z):\n",
    "        \"\"\"\n",
    "        decoding function\n",
    "        \"\"\"\n",
    "\n",
    "        z = F.tanh(self.decode_1(z))\n",
    "        z = F.tanh(self.decode_2(z))\n",
    "        z = F.tanh(self.decode_3(z))\n",
    "\n",
    "        return F.tanh(self.output_layer(z))\n",
    "\n",
    "    def trainIters(self, mod, optim):\n",
    "        \"\"\"\n",
    "        training iterations method\n",
    "        \"\"\"\n",
    "        def train_step(x):\n",
    "            mod.train()\n",
    "            predict = mod(x)\n",
    "\n",
    "            optim.zero_grad()\n",
    "\n",
    "            los = self.lossfunction()\n",
    "            los = los(self.input, predict)\n",
    "\n",
    "            los.backward()\n",
    "\n",
    "            optim.step()\n",
    "\n",
    "            return los.item()\n",
    "\n",
    "        return train_step"
   ]
  },
  {
   "cell_type": "code",
   "execution_count": 39,
   "metadata": {},
   "outputs": [
    {
     "name": "stderr",
     "output_type": "stream",
     "text": [
      "/Users/jr/anaconda3/lib/python3.7/site-packages/torch/nn/functional.py:1339: UserWarning: nn.functional.tanh is deprecated. Use torch.tanh instead.\n",
      "  warnings.warn(\"nn.functional.tanh is deprecated. Use torch.tanh instead.\")\n"
     ]
    },
    {
     "name": "stdout",
     "output_type": "stream",
     "text": [
      "epoch: 1\tavg loss: 0.00969\tloss: 5.08552\t\n",
      "epoch: 2\tavg loss: 0.00168\tloss: 0.88244\t\n",
      "epoch: 3\tavg loss: 0.00101\tloss: 0.52945\t\n",
      "epoch: 4\tavg loss: 0.00091\tloss: 0.47853\t\n",
      "epoch: 5\tavg loss: 0.00090\tloss: 0.47102\t\n",
      "epoch: 6\tavg loss: 0.00089\tloss: 0.46804\t\n",
      "epoch: 7\tavg loss: 0.00089\tloss: 0.46512\t\n",
      "epoch: 8\tavg loss: 0.00086\tloss: 0.45235\t\n",
      "epoch: 9\tavg loss: 0.00068\tloss: 0.35910\t\n",
      "epoch: 10\tavg loss: 0.00046\tloss: 0.24161\t\n",
      "epoch: 11\tavg loss: 0.00042\tloss: 0.22085\t\n",
      "epoch: 12\tavg loss: 0.00041\tloss: 0.21757\t\n",
      "epoch: 13\tavg loss: 0.00041\tloss: 0.21621\t\n",
      "epoch: 14\tavg loss: 0.00041\tloss: 0.21520\t\n",
      "epoch: 15\tavg loss: 0.00041\tloss: 0.21481\t\n"
     ]
    },
    {
     "data": {
      "text/plain": [
       "AutoEncoder(\n",
       "  (input_layer): Linear(in_features=45, out_features=20, bias=True)\n",
       "  (encode_1): Linear(in_features=20, out_features=10, bias=True)\n",
       "  (encode_2): Linear(in_features=10, out_features=5, bias=True)\n",
       "  (encode_3): Linear(in_features=5, out_features=2, bias=True)\n",
       "  (decode_1): Linear(in_features=2, out_features=5, bias=True)\n",
       "  (decode_2): Linear(in_features=5, out_features=10, bias=True)\n",
       "  (decode_3): Linear(in_features=10, out_features=20, bias=True)\n",
       "  (output_layer): Linear(in_features=20, out_features=45, bias=True)\n",
       ")"
      ]
     },
     "execution_count": 39,
     "metadata": {},
     "output_type": "execute_result"
    }
   ],
   "source": [
    "device = torch.device(\"cuda\" if torch.cuda.is_available() else \"cpu\")\n",
    "model = AutoEncoder().to(device)\n",
    "optimizer = torch.optim.Adam(model.parameters(), lr=0.001, weight_decay=1e-5)\n",
    "criterion = torch.nn.MSELoss()\n",
    "\n",
    "# train = model.trainIters(model, optimizer)\n",
    "losses = []\n",
    "\n",
    "# Set model into train mode\n",
    "model.train()\n",
    "\n",
    "# train\n",
    "for epoch in range(EPOCHS):\n",
    "    batch_loss = 0.0\n",
    "    for batch_idx, data in enumerate(train_loader):\n",
    "        # print(f'Epoch: {epoch} batch_idx: {batch_idx}')\n",
    "        data = data.to(device)\n",
    "        output = model(data)\n",
    "        loss = criterion(output, data)\n",
    "        batch_loss += loss\n",
    "        optimizer.zero_grad()\n",
    "        loss.backward()\n",
    "        optimizer.step()\n",
    "    print('epoch: {}\\t'.format(epoch + 1) \\\n",
    "        + 'avg loss: {:.5f}\\t'.format(batch_loss / 525) \\\n",
    "        + 'loss: {:.5f}\\t'.format(batch_loss))\n",
    "\n",
    "\n",
    "# Set model into evaluation mode\n",
    "model.eval()"
   ]
  },
  {
   "cell_type": "code",
   "execution_count": 40,
   "metadata": {},
   "outputs": [],
   "source": [
    "embd = np.zeros(shape=(525, 1000, 2))\n",
    "for batch_idx, data in enumerate(train_loader):\n",
    "    mapping = model.encode(data).detach()\n",
    "    embd[batch_idx] = mapping"
   ]
  },
  {
   "cell_type": "code",
   "execution_count": 41,
   "metadata": {},
   "outputs": [],
   "source": [
    "embd_c = np.concatenate(embd, axis=0)"
   ]
  },
  {
   "cell_type": "code",
   "execution_count": 42,
   "metadata": {},
   "outputs": [
    {
     "data": {
      "text/plain": [
       "<matplotlib.collections.PathCollection at 0x1a1a94c630>"
      ]
     },
     "execution_count": 42,
     "metadata": {},
     "output_type": "execute_result"
    },
    {
     "data": {
      "image/png": "[encoded data removed]",
      "text/plain": [
       "<Figure size 432x288 with 1 Axes>"
      ]
     },
     "metadata": {
      "needs_background": "light"
     },
     "output_type": "display_data"
    }
   ],
   "source": [
    "plt.scatter(embd[:, 0], embd[:, 1])"
   ]
  },
  {
   "cell_type": "code",
   "execution_count": null,
   "metadata": {},
   "outputs": [],
   "source": []
  }
 ],
 "metadata": {
  "kernelspec": {
   "display_name": "Python 3",
   "language": "python",
   "name": "python3"
  },
  "language_info": {
   "codemirror_mode": {
    "name": "ipython",
    "version": 3
   },
   "file_extension": ".py",
   "mimetype": "text/x-python",
   "name": "python",
   "nbconvert_exporter": "python",
   "pygments_lexer": "ipython3",
   "version": "3.7.3"
  }
 },
 "nbformat": 4,
 "nbformat_minor": 2
}
